{
 "cells": [
  {
   "cell_type": "code",
   "execution_count": 28,
   "id": "43da1014",
   "metadata": {
    "scrolled": true
   },
   "outputs": [
    {
     "name": "stdout",
     "output_type": "stream",
     "text": [
      "*** Subway Report for Seoul on March 2023 ***\n",
      "Line 1\n",
      "Busiest Station: 서울역 ( 3084227 )\n",
      "Least used Station: 동묘앞 ( 658566 )\n",
      "Line 2\n",
      "Busiest Station: 강남 ( 4690366 )\n",
      "Least used Station: 도림천 ( 80084 )\n",
      "Line 3\n",
      "Busiest Station: 고속터미널 ( 2886887 )\n",
      "Least used Station: 충무로 ( 48 )\n",
      "Line 4\n",
      "Busiest Station: 혜화 ( 2286709 )\n",
      "Least used Station: 남태령 ( 79916 )\n"
     ]
    }
   ],
   "source": [
    "import csv\n",
    "def main():\n",
    "    f = open('202303_Seoul_Subway.csv')\n",
    "    data = csv.reader(f)\n",
    "    header = next(data)\n",
    "\n",
    "    max = [-999,-999,-999,-999]\n",
    "    max_data = ['', '', '', '']\n",
    "    min = [999999,999999,999999,999999]\n",
    "    min_data = ['', '','','']\n",
    "    num=0\n",
    "    s=[0,0,0,0]\n",
    "\n",
    "    for row in data:\n",
    "        for i in range(4, 6):\n",
    "            row[i] = int(row[i])\n",
    "\n",
    "        d = row[4]+row[5]\n",
    "        if row[1]=='1호선':\n",
    "            if max[0] < d:\n",
    "                max[0] = d\n",
    "                max_data[0] = row[3]\n",
    "            if min[0] > d:\n",
    "                min[0] = d\n",
    "                min_data[0] = row[3]\n",
    "        if row[1]=='2호선':\n",
    "            if max[1] < d:\n",
    "                max[1] = d\n",
    "                max_data[1] = row[3]\n",
    "            if min[1] > d:\n",
    "                min[1] = d\n",
    "                min_data[1] = row[3]\n",
    "        if row[1]=='3호선':\n",
    "            if max[2] < d:\n",
    "                max[2] = d\n",
    "                max_data[2] = row[3]\n",
    "            if min[2] > d:\n",
    "                min[2] = d\n",
    "                min_data[2] = row[3]\n",
    "        if row[1]=='4호선':\n",
    "            if max[3] < d:\n",
    "                max[3] = d\n",
    "                max_data[3] = row[3]\n",
    "            if min[3] > d:\n",
    "                min[3] = d\n",
    "                min_data[3] = row[3]\n",
    "    \n",
    "print(\"*** Subway Report for Seoul on March 2023 ***\")\n",
    "print(\"Line 1\")\n",
    "print(\"Busiest Station:\",max_data[0],\"(\",max[0],\")\")\n",
    "print(\"Least used Station:\",min_data[0],\"(\",min[0],\")\")\n",
    "print(\"Line 2\")\n",
    "print(\"Busiest Station:\",max_data[1],\"(\",max[1],\")\")\n",
    "print(\"Least used Station:\",min_data[1],\"(\",min[1],\")\")\n",
    "print(\"Line 3\")\n",
    "print(\"Busiest Station:\",max_data[2],\"(\",max[2],\")\")\n",
    "print(\"Least used Station:\",min_data[2],\"(\",min[2],\")\")\n",
    "print(\"Line 4\")\n",
    "print(\"Busiest Station:\",max_data[3],\"(\",max[3],\")\")\n",
    "print(\"Least used Station:\",min_data[3],\"(\",min[3],\")\")\n",
    "\n",
    "f.close()\n",
    "\n",
    "    \n",
    "\n",
    "\n",
    "if __name__ == '__main__':\n",
    "\n",
    " \n",
    "\n",
    "    main()"
   ]
  }
 ],
 "metadata": {
  "kernelspec": {
   "display_name": "Python 3 (ipykernel)",
   "language": "python",
   "name": "python3"
  },
  "language_info": {
   "codemirror_mode": {
    "name": "ipython",
    "version": 3
   },
   "file_extension": ".py",
   "mimetype": "text/x-python",
   "name": "python",
   "nbconvert_exporter": "python",
   "pygments_lexer": "ipython3",
   "version": "3.9.12"
  }
 },
 "nbformat": 4,
 "nbformat_minor": 5
}
