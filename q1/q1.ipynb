{
 "cells": [
  {
   "cell_type": "code",
   "execution_count": 53,
   "id": "967b6c0b",
   "metadata": {},
   "outputs": [
    {
     "name": "stdout",
     "output_type": "stream",
     "text": [
      "*** Annual Temperature Report for Seoul in 2022 ***\n",
      "Average Temperature:  13.26  Celsius\n",
      "Average Minimum Temperature: 9.21 Celsius\n",
      "Average Maximum Temperature: 18.05 Celsius\n"
     ]
    }
   ],
   "source": [
    "import csv\n",
    "\n",
    "f = open('2022_Seoul_Temp.csv')\n",
    "data = csv.reader(f)\n",
    "header = next(data)\n",
    "\n",
    "avg=[0.0,0.0,0.0]\n",
    "sum=[0.0,0.0,0.0]\n",
    "num=0\n",
    "\n",
    "for row in data:\n",
    "    bb=0\n",
    "    for i in range(2, 5):\n",
    "        if row[i] != '':\n",
    "            row[i] = float(row[i])\n",
    "        else:\n",
    "            bb=1\n",
    "            continue\n",
    "            \n",
    "    if bb == 0:\n",
    "        sum[0]+=row[2]\n",
    "        sum[1]+=row[3]\n",
    "        sum[2]+=row[4]\n",
    "        num += 1\n",
    "    \n",
    "#for i in range(0, 3):\n",
    "#    avg[i]= sum[i]/num\n",
    "#    avg[i] = round(avg[i],2)\n",
    "    \n",
    "a1=sum[0]/num\n",
    "a2=sum[1]/num\n",
    "a3=sum[2]/num\n",
    "f.close()\n",
    "\n",
    "print(\"*** Annual Temperature Report for Seoul in 2022 ***\")\n",
    "print(\"Average Temperature:\",round(a1,2),\" Celsius\")\n",
    "print(\"Average Minimum Temperature:\",round(a2,2),\"Celsius\")\n",
    "print(\"Average Maximum Temperature:\",round(a3,2),\"Celsius\")\n",
    "    \n"
   ]
  },
  {
   "cell_type": "code",
   "execution_count": null,
   "id": "6f47b1db",
   "metadata": {},
   "outputs": [],
   "source": []
  },
  {
   "cell_type": "code",
   "execution_count": null,
   "id": "3122469d",
   "metadata": {},
   "outputs": [],
   "source": []
  }
 ],
 "metadata": {
  "kernelspec": {
   "display_name": "Python 3 (ipykernel)",
   "language": "python",
   "name": "python3"
  },
  "language_info": {
   "codemirror_mode": {
    "name": "ipython",
    "version": 3
   },
   "file_extension": ".py",
   "mimetype": "text/x-python",
   "name": "python",
   "nbconvert_exporter": "python",
   "pygments_lexer": "ipython3",
   "version": "3.9.12"
  }
 },
 "nbformat": 4,
 "nbformat_minor": 5
}
