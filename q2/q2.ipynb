{
 "cells": [
  {
   "cell_type": "code",
   "execution_count": null,
   "id": "3f59056d",
   "metadata": {},
   "outputs": [],
   "source": []
  },
  {
   "cell_type": "code",
   "execution_count": null,
   "id": "ccb3c1e4",
   "metadata": {},
   "outputs": [],
   "source": []
  },
  {
   "cell_type": "code",
   "execution_count": 37,
   "id": "88d323a0",
   "metadata": {},
   "outputs": [
    {
     "name": "stdout",
     "output_type": "stream",
     "text": [
      "*** Annual Temperature Report for Seoul in 2022 ***\n",
      "Day with the Largest. Temperature Variation: 2022-11-29\n",
      "Maximum Temperature Difference: 16.6 Celsius\n",
      "Day with the Largest. Temperature Variation: 2022-06-29\n",
      "Maximum Temperature Difference: 1.7 Celsius\n"
     ]
    }
   ],
   "source": [
    "import csv\n",
    "\n",
    "\n",
    "def main():\n",
    "    f = open('2022_Seoul_Temp.csv')\n",
    "    data = csv.reader(f)\n",
    "    header = next(data)\n",
    "\n",
    "    max=-999\n",
    "    min=999\n",
    "    mx_data=''\n",
    "    mn_data=''\n",
    "    num=0\n",
    "\n",
    "    for row in data:\n",
    "        for i in range(2, 5):\n",
    "            if row[i] != '':\n",
    "                row[i]=float(row[i])\n",
    "\n",
    "        if row[3] != '' and row[4] != '':\n",
    "            d = row[4]-row[3]\n",
    "\n",
    "        if min > d:\n",
    "            min = d\n",
    "            mn_data=row[0]\n",
    "        if max < d:\n",
    "            max=d\n",
    "            mx_data=row[0]\n",
    "\n",
    "    max = round(max,2)\n",
    "    min = round(min,2)\n",
    "    print(\"*** Annual Temperature Report for Seoul in 2022 ***\")\n",
    "    print(\"Day with the Largest. Temperature Variation:\",mx_data)\n",
    "    print(\"Maximum Temperature Difference:\",max,\"Celsius\")\n",
    "    print(\"Day with the Largest. Temperature Variation:\",mn_data)\n",
    "    print(\"Maximum Temperature Difference:\",min,\"Celsius\")\n",
    "\n",
    "    f.close()\n",
    "\n",
    "\n",
    "if __name__ == '__main__':\n",
    "\n",
    " \n",
    "\n",
    "    main()"
   ]
  }
 ],
 "metadata": {
  "kernelspec": {
   "display_name": "Python 3 (ipykernel)",
   "language": "python",
   "name": "python3"
  },
  "language_info": {
   "codemirror_mode": {
    "name": "ipython",
    "version": 3
   },
   "file_extension": ".py",
   "mimetype": "text/x-python",
   "name": "python",
   "nbconvert_exporter": "python",
   "pygments_lexer": "ipython3",
   "version": "3.9.12"
  }
 },
 "nbformat": 4,
 "nbformat_minor": 5
}
