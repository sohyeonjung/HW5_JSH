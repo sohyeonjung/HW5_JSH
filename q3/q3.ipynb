{
 "cells": [
  {
   "cell_type": "code",
   "execution_count": null,
   "id": "7a6aee73",
   "metadata": {},
   "outputs": [],
   "source": []
  },
  {
   "cell_type": "code",
   "execution_count": 64,
   "id": "5f7d9f49",
   "metadata": {},
   "outputs": [
    {
     "name": "stdout",
     "output_type": "stream",
     "text": [
      "*** Subway Report for Seoul on March 2023 ***\n",
      "1st Busiest Line: Line  2 ( 85620512 )\n",
      "2st Busiest Line: Line  5 ( 39671990 )\n",
      "1st Least used Line: Line  8 ( 11863928 )\n",
      "2st Least used Line: Line  1 ( 14705833 )\n"
     ]
    }
   ],
   "source": [
    "import csv\n",
    "\n",
    "def main():\n",
    "    f = open('202303_Seoul_Subway.csv')\n",
    "    data = csv.reader(f)\n",
    "    header = next(data)\n",
    "\n",
    "    sum =[0,0,0,0,0,0,0,0,0]\n",
    "\n",
    "    for row in data:\n",
    "        for i in range(4, 6):\n",
    "            if row[i] != '':\n",
    "                row[i] = int(row[i])\n",
    "        if row[1]=='1호선':\n",
    "            sum[0] = sum[0]+row[4]+row[5]\n",
    "        if row[1]=='2호선':\n",
    "            sum[1] = sum[1]+row[4]+row[5]\n",
    "        if row[1]=='3호선':\n",
    "            sum[2] = sum[2]+row[4]+row[5]\n",
    "        if row[1]=='4호선':\n",
    "            sum[3] = sum[3]+row[4]+row[5]\n",
    "        if row[1]=='5호선':\n",
    "            sum[4] = sum[4]+row[4]+row[5]\n",
    "        if row[1]=='6호선':\n",
    "            sum[5] = sum[5]+row[4]+row[5]\n",
    "        if row[1]=='7호선':\n",
    "            sum[6] = sum[6]+row[4]+row[5]\n",
    "        if row[1]=='8호선':\n",
    "            sum[7] = sum[7]+row[4]+row[5]\n",
    "        if row[1]=='9호선':\n",
    "            sum[8] = sum[8]+row[4]+row[5]\n",
    "\n",
    "    max=-999\n",
    "    min=99999999\n",
    "    max2=-999\n",
    "    min2=99999999\n",
    "\n",
    "    for i in range(0,9):\n",
    "        if max < sum[i]:\n",
    "            max = sum[i]\n",
    "            maxidx=i\n",
    "        if min > sum[i]:\n",
    "            min = sum[i]\n",
    "            minidx=i\n",
    "\n",
    "    for i in range(0,9):\n",
    "\n",
    "        if max2 < sum[i]:\n",
    "            if maxidx != i:\n",
    "                max2 = sum[i]\n",
    "                maxidx2=i\n",
    "        if min2 > sum[i]:\n",
    "            if minidx != i:\n",
    "                min2 = sum[i]\n",
    "                minidx2=i\n",
    "\n",
    "\n",
    "    print(\"*** Subway Report for Seoul on March 2023 ***\")  \n",
    "    print(\"1st Busiest Line: Line \", maxidx+1,\"(\",max,\")\")\n",
    "    print(\"2st Busiest Line: Line \", maxidx2+1,\"(\",max2,\")\")\n",
    "    print(\"1st Least used Line: Line \", minidx+1,\"(\",min,\")\")\n",
    "    print(\"2st Least used Line: Line \", minidx2+1,\"(\",min2,\")\")\n",
    "\n",
    "   \n",
    "\n",
    " \n",
    "\n",
    "if __name__ == '__main__':\n",
    "\n",
    " \n",
    "\n",
    "    main()"
   ]
  }
 ],
 "metadata": {
  "kernelspec": {
   "display_name": "Python 3 (ipykernel)",
   "language": "python",
   "name": "python3"
  },
  "language_info": {
   "codemirror_mode": {
    "name": "ipython",
    "version": 3
   },
   "file_extension": ".py",
   "mimetype": "text/x-python",
   "name": "python",
   "nbconvert_exporter": "python",
   "pygments_lexer": "ipython3",
   "version": "3.9.12"
  }
 },
 "nbformat": 4,
 "nbformat_minor": 5
}
